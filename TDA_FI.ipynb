{
 "cells": [
  {
   "cell_type": "markdown",
   "id": "8a65808f",
   "metadata": {},
   "source": [
    "## 0. Introduction"
   ]
  },
  {
   "cell_type": "markdown",
   "id": "8d049029",
   "metadata": {},
   "source": [
    "In this notebook, we will look at three difference methods attempting to apply Topological data analysis (TDA) methods to financial data. \n",
    "\n",
    "Theorecitcal Background of persistence homology can be found in e.g. https://raphaeltinarrage.github.io/EMAp.html. \n",
    "\n",
    "For computation of persistence homology, we rely on GUDHI https://gudhi.inria.fr/."
   ]
  },
  {
   "cell_type": "markdown",
   "id": "3934ca02",
   "metadata": {},
   "source": [
    "## 1. Predicting financial bubbles"
   ]
  },
  {
   "cell_type": "markdown",
   "id": "cf84a026",
   "metadata": {},
   "source": [
    "In https://arxiv.org/pdf/1703.04385, https://arxiv.org/pdf/1809.00695 and https://arxiv.org/pdf/2304.06877 the authors suggest that TDA methods, particularly norms of persistence landscapes can be used to detect financial bubbles. \n",
    "\n",
    "In this section, we will implement accroding to the papers, and applied to NVDA and HSI to investigate whether this makes sense or not."
   ]
  },
  {
   "cell_type": "markdown",
   "id": "30f024cb",
   "metadata": {},
   "source": [
    "### 1a. Background"
   ]
  },
  {
   "cell_type": "markdown",
   "id": "3bc609f3",
   "metadata": {},
   "source": [
    "In https://arxiv.org/pdf/1703.04385, this TDA method is applied to 4 major financial indices (S&P 500,\n",
    "DJIA, NASDAQ, and Russel 2000) between December 23, 1987 and December 08, 2016 to investigate the trend before two major crashes: technology crash of 2000, and the financial crisis of 2007-2009.\n",
    "\n",
    "In https://arxiv.org/pdf/1809.00695, a slightly different version is applied to 4 cryptocurrencies – Bitcoin, Ethereum, Litecoin, and Ripple from the beginning of 2016 to early 2018 to crashes during December 2017 – January\n",
    "2018.\n",
    "\n",
    "In https://arxiv.org/pdf/2304.06877, a comparison between this TDA method and the LPPLS model is made, and a heuristic argument is provided for the ability of detecting early warning signals of critical transitions. This method is applied again to the Bitcoin price between October 1st 2021 and July 1st 2022, and compared alongside with the LPPLS model."
   ]
  },
  {
   "cell_type": "markdown",
   "id": "ca04eebb",
   "metadata": {},
   "source": [
    "### 1b. Implementation"
   ]
  },
  {
   "cell_type": "markdown",
   "id": "f849fac9",
   "metadata": {},
   "source": [
    "Import packages"
   ]
  },
  {
   "cell_type": "code",
   "execution_count": 1,
   "id": "f6c401df",
   "metadata": {},
   "outputs": [],
   "source": [
    "import os\n",
    "os.environ[\"OMP_NUM_THREADS\"] = \"1\" \n",
    "\n",
    "import yfinance as yf\n",
    "from math import log, sqrt\n",
    "import pandas as pd\n",
    "import numpy as np\n",
    "import gudhi as gd\n",
    "from datetime import date"
   ]
  },
  {
   "cell_type": "markdown",
   "id": "a795f82c",
   "metadata": {},
   "source": [
    "Download/Load data to pandas dataframe"
   ]
  },
  {
   "cell_type": "markdown",
   "id": "874264af",
   "metadata": {},
   "source": [
    "`log_return` computes the log return from adjusted close price."
   ]
  },
  {
   "cell_type": "code",
   "execution_count": 2,
   "id": "0d8f207a",
   "metadata": {},
   "outputs": [],
   "source": [
    "def log_return(data):\n",
    "    return ((data/data.shift())[1:]).apply(log)"
   ]
  },
  {
   "cell_type": "markdown",
   "id": "6a11471d",
   "metadata": {},
   "source": [
    "`get_norms` perform the followings:\n",
    "\n",
    "First, it uses time-delay embedding embed log return times series to `embedding_dim` dimension. \n",
    "\n",
    "After that, it uses sliding windows to form time varying point clouds. \n",
    "\n",
    "Finally, it uses `compute_norm` to compute the norm of landscapes as a pandas series. Note the index of series is taken as the latest date appeared in the window.\n",
    "\n",
    "Here, `compute_norm` returns the norm of persistence landscape for data point cloud `Z` given."
   ]
  },
  {
   "cell_type": "code",
   "execution_count": 3,
   "id": "019e0cf0",
   "metadata": {},
   "outputs": [],
   "source": [
    "embedding_dim = 4\n",
    "time_delay = 5\n",
    "window_length = 10\n",
    "\n",
    "def compute_norm(Z):\n",
    "    acZ = gd.RipsComplex(points=Z).create_simplex_tree(max_dimension = 2) #Create Rips complex as simplex tree\n",
    "    dgmZ = acZ.persistence(homology_coeff_field = 2) #Compute persistence in Z/2Z coefficient.\n",
    "    norm_1 = sum([((y-x)/2)**2 for x,y in acZ.persistence_intervals_in_dimension(1)]) #1-norm of landscape of 1-d persistent homology\n",
    "    norm_2 = sqrt(sum([((y-x)**3)/12 for x,y in acZ.persistence_intervals_in_dimension(1)])) #2-norm\n",
    "    norm_inf = max([((y-x)/2) for x,y in acZ.persistence_intervals_in_dimension(1)]) if len(acZ.persistence_intervals_in_dimension(1)) else 0 #inf-norm\n",
    "    return {'1':norm_1, '2':norm_2, 'inf':norm_inf}\n",
    "\n",
    "def get_norms(log_return,norm = '2',embedding_dim = embedding_dim,time_delay = time_delay, window_length = window_length):\n",
    "    if norm not in ['1','2','inf']:\n",
    "        raise ValueError(f\"Norm must be '1','2', or 'inf'. Current norm: {norm}\")\n",
    "    series_len = len(log_return)\n",
    "    time_delay_coord = [log_return[i:embedding_dim*time_delay+i:time_delay] for i in range(series_len-embedding_dim+1)] #time-delay embedding\n",
    "    Z = pd.Series([time_delay_coord[t:t+window_length] for t in range(series_len-(embedding_dim-1)*time_delay - window_length + 1)]) #sliding windows\n",
    "    return pd.Series([compute_norm(z)[norm] for z in Z], index = [max(time_delay_coord[t+window_length-1].index) for t in range(series_len-(embedding_dim-1)*time_delay - window_length + 1)])"
   ]
  },
  {
   "cell_type": "markdown",
   "id": "134d1e7a",
   "metadata": {},
   "source": [
    "### 1c. Applying to data"
   ]
  },
  {
   "cell_type": "markdown",
   "id": "3439b67d",
   "metadata": {},
   "source": [
    "We will apply the above functions to the NVDA dataset, to get the norm of landscapes. \n",
    "\n",
    "And we will plot the norms against time as a graph."
   ]
  },
  {
   "cell_type": "code",
   "execution_count": 4,
   "id": "5c1a8aa0",
   "metadata": {},
   "outputs": [],
   "source": [
    "'''start = '2024-01-01'\n",
    "end = '2025-01-01'\n",
    "name = asset+'-'+start+'-'+end+'.xlsx'\n",
    "data = yf.download(asset, start=start, end=end)\n",
    "data.to_excel(name)'''\n",
    "\n",
    "'''asset = \"NVDA\"\n",
    "period = \"1y\"\n",
    "name = asset + '-' + period + str(date.today()) + '.xlsx'\n",
    "data = yf.download(asset,period = period)\n",
    "data.to_excel(name)'''\n",
    "\n",
    "NVDA_data = pd.read_excel(r\"C:\\Users\\Tom Li\\NVDA-1y2025-02-12.xlsx\",index_col = 0,header = [0,1])['Close'].iloc[:,0]"
   ]
  },
  {
   "cell_type": "code",
   "execution_count": 5,
   "id": "80918acd",
   "metadata": {},
   "outputs": [
    {
     "data": {
      "text/plain": [
       "<Axes: title={'center': 'NVDA'}, ylabel='landscape norm'>"
      ]
     },
     "execution_count": 5,
     "metadata": {},
     "output_type": "execute_result"
    },
    {
     "data": {
      "image/png": "[encoded data removed]",
      "text/plain": [
       "<Figure size 640x480 with 1 Axes>"
      ]
     },
     "metadata": {},
     "output_type": "display_data"
    }
   ],
   "source": [
    "norm_time = get_norms(log_return(NVDA_data),norm = '1')\n",
    "norm_time.plot(title = 'NVDA', ylabel = 'landscape norm')"
   ]
  },
  {
   "cell_type": "markdown",
   "id": "24a06ed4",
   "metadata": {},
   "source": [
    "### 1d. Interpreting the result"
   ]
  },
  {
   "cell_type": "markdown",
   "id": "27e5d5b6",
   "metadata": {},
   "source": [
    "We see that there is an increasing trend of landscape norm in 2024-06 to 2024-07. Following https://arxiv.org/pdf/1703.04385 and https://arxiv.org/pdf/1809.00695, the rising trend might be a signal indicating later crash in asset price. Comparing with stock price, this might suggest the drop experience from \\\\$134.91 in 2024-07-10 to \\\\$98.91 in 2024-08-07. \n",
    "\n",
    "We also see a peak of landscape norm in 2025-02-05. According to https://arxiv.org/pdf/2304.06877, spike in the diagram might corresponds to either positive (increase followed by a crash) or negative (decay followed by a rebound) bubbles. This might suggest the bubble from the crest at \\\\$116.66 in 2025-02-03 to the peak at \\\\$140.11 in 2025-02-20 to the crest at \\\\$106.98 in 2025-03-10."
   ]
  },
  {
   "cell_type": "markdown",
   "id": "2c9861ae",
   "metadata": {},
   "source": [
    "We perform one more example on Hong Kong's HSI."
   ]
  },
  {
   "cell_type": "code",
   "execution_count": 6,
   "id": "603b0a97",
   "metadata": {
    "scrolled": false
   },
   "outputs": [
    {
     "data": {
      "text/plain": [
       "<Axes: title={'center': 'HSI'}, ylabel='landscape norm'>"
      ]
     },
     "execution_count": 6,
     "metadata": {},
     "output_type": "execute_result"
    },
    {
     "data": {
      "image/png": "[encoded data removed]",
      "text/plain": [
       "<Figure size 640x480 with 1 Axes>"
      ]
     },
     "metadata": {},
     "output_type": "display_data"
    }
   ],
   "source": [
    "HSI_data = pd.read_excel(r\"C:\\Users\\Tom Li\\^HSI-1y2025-02-12.xlsx\",index_col = 0,header = [0,1])['Close'].iloc[:,0]\n",
    "norm_time = get_norms(log_return(HSI_data),norm = '1')\n",
    "norm_time.plot(title = 'HSI' ,ylabel = 'landscape norm')"
   ]
  },
  {
   "cell_type": "markdown",
   "id": "fd36bd5b",
   "metadata": {},
   "source": [
    "Compare with the index value, the spike near 2024-04-30 might suggest the bubble from 18507 at 2024-05-02, to the peak of 19636 at 2024-05-20, dropping back to 18079 at 2024-05-31 again. \n",
    "\n",
    "The spike at 2024-10-28 might indicate the drop from 21006 at 2024-11-05 to 19426 at 2024-11-14.\n",
    "\n",
    "Unfortunately, the norm did not predict the rising trend of the bubble from 17108 at 2024-09-11 to 23099 at 2024-10-07, nor the crashing from 23099 at 2024-10-07 to 20079 at 2024-10-17."
   ]
  },
  {
   "cell_type": "markdown",
   "id": "2b1e77e7",
   "metadata": {},
   "source": [
    "## 2. Portfolio Allocation"
   ]
  },
  {
   "cell_type": "markdown",
   "id": "9b364440",
   "metadata": {},
   "source": [
    "In https://arxiv.org/pdf/2009.03362, inspired by the Recency Frequency Monetary framework (RFM), a TDA method for portfolio allocation is suggested. We will try to apply this method to a big-tech MANAMANA data set."
   ]
  },
  {
   "cell_type": "markdown",
   "id": "dddac274",
   "metadata": {},
   "source": [
    "### 2a. Background"
   ]
  },
  {
   "cell_type": "markdown",
   "id": "752e89ca",
   "metadata": {},
   "source": [
    "The idea is to perform time-delay embedding similar as above, and use the L2 norm of persistence landscape to compute a version of recency, frequency and monetary. These RFM values are then normalized to provide an allcation weighting."
   ]
  },
  {
   "cell_type": "markdown",
   "id": "9b0abf5f",
   "metadata": {},
   "source": [
    "We will apply this method to the big tech MANAMANA stocks, which includes: Microsoft, Apple, Netflix, Alphabet, Meta, Amazon, Nvidia, Adobe. This TDA-RFM allocation will give a weighting, so we can form a portfolio of these 8 stocks weighted with the corresponding weighting. We will compare its performance against a naive portfolio i.e. equally weighted.\n",
    "\n",
    "For the training data set, we use 1 year (2022-2023) data; for the testing data set, we use 2023-2025 data to test."
   ]
  },
  {
   "cell_type": "markdown",
   "id": "c24c373d",
   "metadata": {},
   "source": [
    "###  2b. Parameters and data reading"
   ]
  },
  {
   "cell_type": "markdown",
   "id": "02453649",
   "metadata": {},
   "source": [
    "First, we set the parameters and read the data. After that we perform the train-test splitting."
   ]
  },
  {
   "cell_type": "code",
   "execution_count": 7,
   "id": "48ab5d77",
   "metadata": {},
   "outputs": [],
   "source": [
    "embedding_dim = 4\n",
    "time_delay = 1\n",
    "window_length = 10\n",
    "\n",
    "MANAMANA = ['MSFT','AAPL','NFLX','GOOG','META','AMZN','NVDA','ADBE']\n",
    "\n",
    "'''asset = \"MANAMANA\"\n",
    "start = '2022-01-01'\n",
    "end = '2025-01-01'\n",
    "name = asset+'-'+start+'-'+end+'.xlsx'\n",
    "data = yf.download(MANAMANA, start=start, end=end)\n",
    "data.to_excel(name)'''\n",
    "\n",
    "'''asset = \"MANAMANA\"\n",
    "period = \"1y\"\n",
    "name = asset + '-' + period + str(date.today()) + '.xlsx'\n",
    "data = yf.download(MANAMANA,period = period)\n",
    "data.to_excel(name)'''\n",
    "\n",
    "MANAMANA_raw = pd.read_excel(r\"C:\\Users\\Tom Li\\MANAMANA-2022-01-01-2025-01-01.xlsx\",\n",
    "                              index_col = 0,header = [0,1])['Close']\n",
    "MANAMANA_train = MANAMANA_raw[:'2023-01-01']\n",
    "MANAMANA_test = MANAMANA_raw['2023-01-01':]"
   ]
  },
  {
   "cell_type": "markdown",
   "id": "c6a76785",
   "metadata": {},
   "source": [
    "### 2c. Allocation computation"
   ]
  },
  {
   "cell_type": "markdown",
   "id": "bcaf64d2",
   "metadata": {},
   "source": [
    "We compute the $L^2$ norm of persistence landscape. After that, we obtain the recency, frequency, and monetary values from the $L^2$ norms."
   ]
  },
  {
   "cell_type": "code",
   "execution_count": 8,
   "id": "cd034bc4",
   "metadata": {},
   "outputs": [],
   "source": [
    "MANAMANA_L2 = pd.DataFrame({stock: get_norms(log_return(MANAMANA_train[stock]),norm = '2',\n",
    "                                              embedding_dim = embedding_dim,\n",
    "                                              time_delay = time_delay, \n",
    "                                              window_length = window_length)\n",
    "                             for stock in  MANAMANA_train.columns})\n",
    "MANAMANA_diff_L2 = (MANAMANA_L2-MANAMANA_L2.shift())[1:]\n",
    "\n",
    "recency = {}\n",
    "for stock in MANAMANA_diff_L2.columns:\n",
    "    cnt = 0\n",
    "    for num in MANAMANA_diff_L2[stock][::-1]:\n",
    "        if num>0:\n",
    "            cnt += 1\n",
    "        else:\n",
    "            break\n",
    "    recency[stock] = cnt\n",
    "\n",
    "frequency = {stock:sum(MANAMANA_diff_L2[stock]>0) for stock in MANAMANA_diff_L2.columns}\n",
    "monetary = {stock:sum(MANAMANA_diff_L2[stock]) for stock in MANAMANA_diff_L2.columns}"
   ]
  },
  {
   "cell_type": "markdown",
   "id": "50021830",
   "metadata": {},
   "source": [
    "Performing the normalization, we get the allocation weighting."
   ]
  },
  {
   "cell_type": "code",
   "execution_count": 9,
   "id": "a1947837",
   "metadata": {
    "scrolled": false
   },
   "outputs": [
    {
     "data": {
      "text/plain": [
       "{'AAPL': 0.16248039942382766,\n",
       " 'ADBE': 0.10436842730052745,\n",
       " 'AMZN': 0.19687628665141857,\n",
       " 'GOOG': 0.09222479906678235,\n",
       " 'META': 0.06968587541130737,\n",
       " 'MSFT': 0.23786644199401755,\n",
       " 'NFLX': 0.05861264576254696,\n",
       " 'NVDA': 0.0778851243895722}"
      ]
     },
     "execution_count": 9,
     "metadata": {},
     "output_type": "execute_result"
    }
   ],
   "source": [
    "def normalize(dicts):\n",
    "    return {stock:(v-min(dicts.values()))/(max(dicts.values())-min(dicts.values())) for stock,v in dicts.items()}\n",
    "scores = {stock:normalize(recency)[stock]+normalize(frequency)[stock]+normalize(monetary)[stock] for stock in MANAMANA_diff_L2.columns}\n",
    "allocations = {stock:score/sum(scores.values()) for stock,score in scores.items()}\n",
    "allocations"
   ]
  },
  {
   "cell_type": "markdown",
   "id": "e027a7c7",
   "metadata": {},
   "source": [
    "### 2d. Result comparison"
   ]
  },
  {
   "cell_type": "markdown",
   "id": "ac6868c7",
   "metadata": {},
   "source": [
    "Now we compare the increment of the TDA-RFM portfolio with the naive portfolio."
   ]
  },
  {
   "cell_type": "code",
   "execution_count": 10,
   "id": "356a6d31",
   "metadata": {},
   "outputs": [
    {
     "name": "stdout",
     "output_type": "stream",
     "text": [
      "TDA-RFM allocation: 2.8282909111807566\n",
      "Naive allocation: 3.367504719271582\n"
     ]
    }
   ],
   "source": [
    "print(f'''TDA-RFM allocation: {sum(MANAMANA_test[stock].iloc[-1]/MANAMANA_test[stock][\"2023-01-01\":].iloc[0]*allocation \n",
    "    for stock,allocation in allocations.items())}''')\n",
    "print(f'''Naive allocation: {sum(MANAMANA_test[stock].iloc[-1]/MANAMANA_test[stock][\"2023-01-01\":].iloc[0]*(1/len(allocations)) \n",
    "for stock in allocations)}''')"
   ]
  },
  {
   "cell_type": "markdown",
   "id": "3f76dab0",
   "metadata": {},
   "source": [
    "Although in https://arxiv.org/pdf/2009.03362, the author obtain better result using TDA-RFM allocation, the TDA-RFM allocation is worse than the naive allocation in our MANAMANA data set. This might due to 2 reasons: \n",
    "\n",
    "1. Our MANAMANA set is simply too small. Due to limitation of resources, we cannot apply to such a huge dataset, unlike the authors having a server with 256GB RAM, 40 CPUs.\n",
    "2. Our implementation is different from the authors. There are a few spots in the paper reflecting mathematical errors which might affect our understanding of the algorithm.\n",
    "\n",
    "One error is the definition of monetary value. The monetary value is defined as the sum of the difference in $L^2$ norms. It is nearly impossible for it to be valued in $\\mathbb{N}$, contradicting claims elsewhere in the paper that all RFM are $\\mathbb{N}$ valued. Also due to telescoping, the monetary value is simply just the last value minus the first value, there are no room for deep relation embedding inside.\n",
    "\n",
    "Other error includes the definition of $C$. It is very absurd in set theorectical sense.\n",
    "\n",
    "Also, some pararmeters are simply not provided in the paper. This includes for example the embedding dimension $d$. "
   ]
  },
  {
   "cell_type": "markdown",
   "id": "317ce7b9",
   "metadata": {},
   "source": [
    "## 3. Portfolio Selection"
   ]
  },
  {
   "cell_type": "markdown",
   "id": "c5c504b0",
   "metadata": {},
   "source": [
    "In https://arxiv.org/pdf/2308.07944, the authors suggested a TDA method for portfolio selections, we will apply this method once again to the MANAMANA dataset to test the performance. "
   ]
  },
  {
   "cell_type": "markdown",
   "id": "d61f6d49",
   "metadata": {},
   "source": [
    "### 3a. Pipeline"
   ]
  },
  {
   "cell_type": "markdown",
   "id": "1bac6813",
   "metadata": {},
   "source": [
    "Using the best performing model presetning in the paper, the pipeline goes as follows:\n",
    "\n",
    "First, consider a large collection of stocks. For each stock in the collection, use the stock price to compute the persistence image as an embedding to a fixed high dimensional space, i.e. each stock is represented as a point in a fixed high dimensional space.\n",
    "\n",
    "Next, apply $k$-mean clustering to classify the collection of stocks to clusters.\n",
    "\n",
    "For each cluster, we choose a small fixed amount of best performing stocks according to Sharpe ratio.\n",
    "\n",
    "The resulting small amount of stocks in each cluster will be the selected portfolio."
   ]
  },
  {
   "cell_type": "markdown",
   "id": "d3a91ff1",
   "metadata": {},
   "source": [
    "### 3b. Persistent Image computation"
   ]
  },
  {
   "cell_type": "markdown",
   "id": "00802a98",
   "metadata": {},
   "source": [
    "First we will compute the persistence diagram of the stock prices."
   ]
  },
  {
   "cell_type": "code",
   "execution_count": 11,
   "id": "89abdd0c",
   "metadata": {
    "scrolled": true
   },
   "outputs": [],
   "source": [
    "def get_pt_cloud(log_return):\n",
    "    series_len = len(log_return)\n",
    "    return [log_return[i:embedding_dim*time_delay+i:time_delay].values for i in range(series_len-embedding_dim+1)]\n",
    "\n",
    "def compute_dgm(Z,dim = 1,coeff = 2):\n",
    "    acZ = gd.RipsComplex(points=Z).create_simplex_tree(max_dimension = dim+1) #Create Rips complex as simplex tree\n",
    "    acZ.persistence(homology_coeff_field = coeff)\n",
    "    return acZ.persistence_intervals_in_dimension(dim)\n",
    "\n",
    "MANAMANA_PD = {stock:compute_dgm(get_pt_cloud(log_return(MANAMANA_train[stock])))\n",
    "                            for stock in MANAMANA_train.columns}"
   ]
  },
  {
   "cell_type": "markdown",
   "id": "76908e4d",
   "metadata": {},
   "source": [
    "We compute the persistence image from the persistence diagram. The persistence image allows us to view the stocks as points in a high dimensional space."
   ]
  },
  {
   "cell_type": "code",
   "execution_count": 12,
   "id": "d62ab1d0",
   "metadata": {},
   "outputs": [],
   "source": [
    "from gudhi.representations import PersistenceImage\n",
    "PI_dict = {stock:PersistenceImage().fit_transform(X = [MANAMANA_PD[stock]]) for stock in MANAMANA_PD}\n",
    "PI_item = list(PI_dict.items())"
   ]
  },
  {
   "cell_type": "markdown",
   "id": "7589f94f",
   "metadata": {},
   "source": [
    "### 3c. Clustering and stock selection"
   ]
  },
  {
   "cell_type": "markdown",
   "id": "e3427a7a",
   "metadata": {
    "scrolled": false
   },
   "source": [
    "Next, we perform $k$-mean clustering, we can see the labels assigned to each stock."
   ]
  },
  {
   "cell_type": "code",
   "execution_count": 13,
   "id": "08f0218b",
   "metadata": {},
   "outputs": [
    {
     "name": "stdout",
     "output_type": "stream",
     "text": [
      "[('AAPL', 2), ('ADBE', 2), ('AMZN', 1), ('GOOG', 1), ('META', 2), ('MSFT', 0), ('NFLX', 1), ('NVDA', 1)]\n"
     ]
    }
   ],
   "source": [
    "from sklearn.cluster import KMeans\n",
    "X = np.array([PI_item[i][1][0] for i in range(len(PI_item))])\n",
    "n_clusters = 3\n",
    "kmeans = KMeans(n_init = 'auto',n_clusters = n_clusters,random_state = 114514).fit(X)\n",
    "print([(x[0],kmeans.labels_[i]) for i,x in enumerate(PI_item)])"
   ]
  },
  {
   "cell_type": "markdown",
   "id": "6963bdb6",
   "metadata": {},
   "source": [
    "Choose the best performing stocks in terms of sharpe ratios to get the selected stocks."
   ]
  },
  {
   "cell_type": "code",
   "execution_count": 14,
   "id": "589826f4",
   "metadata": {},
   "outputs": [
    {
     "data": {
      "text/plain": [
       "{'AAPL', 'MSFT', 'NVDA'}"
      ]
     },
     "execution_count": 14,
     "metadata": {},
     "output_type": "execute_result"
    }
   ],
   "source": [
    "selected_stocks = {max((PI_item[j][0] for j,label in enumerate(kmeans.labels_) if label == i), \n",
    "                       key = lambda x:(MANAMANA_train[x].iloc[-1]/MANAMANA_train[x].iloc[0])/MANAMANA_train[x].std()) \n",
    "                   for i in range(n_clusters)}\n",
    "selected_stocks"
   ]
  },
  {
   "cell_type": "markdown",
   "id": "a5061654",
   "metadata": {},
   "source": [
    "### 3d. Result Comparison"
   ]
  },
  {
   "cell_type": "markdown",
   "id": "6322f298",
   "metadata": {},
   "source": [
    "Now we compare the increment of the PI-selected portfolio with the naive portfolio."
   ]
  },
  {
   "cell_type": "code",
   "execution_count": 15,
   "id": "ef968b72",
   "metadata": {
    "scrolled": true
   },
   "outputs": [
    {
     "name": "stdout",
     "output_type": "stream",
     "text": [
      "PI selected portfolio: 4.399795910155403\n",
      "naive portfolio: 3.367504719271582\n"
     ]
    }
   ],
   "source": [
    "print(f'''PI selected portfolio: {sum(MANAMANA_test[stock].iloc[-1]/MANAMANA_test[stock][\"2023-01-01\":].iloc[0]*(1/len(selected_stocks)) \n",
    "    for stock in selected_stocks)}''')\n",
    "print(f'''naive portfolio: {sum(MANAMANA_test[stock].iloc[-1]/MANAMANA_test[stock][\"2023-01-01\":].iloc[0]*(1/len(MANAMANA_PD)) \n",
    "    for stock in MANAMANA_PD)}''')"
   ]
  },
  {
   "cell_type": "markdown",
   "id": "aef7bf66",
   "metadata": {},
   "source": [
    "We see that the selected portfolio performs much better than the naive portfolio. Furthermore, the very well performing NVDA is selected by this algorithm, which is remarkable."
   ]
  }
 ],
 "metadata": {
  "kernelspec": {
   "display_name": "Python 3 (ipykernel)",
   "language": "python",
   "name": "python3"
  },
  "language_info": {
   "codemirror_mode": {
    "name": "ipython",
    "version": 3
   },
   "file_extension": ".py",
   "mimetype": "text/x-python",
   "name": "python",
   "nbconvert_exporter": "python",
   "pygments_lexer": "ipython3",
   "version": "3.10.9"
  }
 },
 "nbformat": 4,
 "nbformat_minor": 5
}
